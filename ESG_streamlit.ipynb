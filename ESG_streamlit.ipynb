{
  "nbformat": 4,
  "nbformat_minor": 0,
  "metadata": {
    "colab": {
      "provenance": []
    },
    "kernelspec": {
      "name": "python3",
      "display_name": "Python 3"
    },
    "language_info": {
      "name": "python"
    }
  },
  "cells": [
    {
      "cell_type": "code",
      "source": [
        "# Install necessary packages\n",
        "#!pip install streamlit transformers yfinance matplotlib seaborn\n",
        "#!npm install -g localtunnel"
      ],
      "metadata": {
        "id": "X2XRPjiBTNp9"
      },
      "execution_count": 2,
      "outputs": []
    },
    {
      "cell_type": "code",
      "source": [
        "# The Streamlit app\n",
        "%%writefile app.py\n",
        "import streamlit as st\n",
        "import yfinance as yf\n",
        "import matplotlib.pyplot as plt\n",
        "import seaborn as sns\n",
        "from transformers import pipeline\n",
        "import requests\n",
        "\n",
        "st.title(\"ESG Data Analysis Chatbot\")\n",
        "st.write(\"Ask me about ESG performance and insights for any stock!\")\n",
        "\n",
        "summarizer = pipeline(\"summarization\")\n",
        "\n",
        "def get_stock_data(ticker):\n",
        "    stock = yf.Ticker(ticker)\n",
        "    esg_scores = stock.sustainability\n",
        "    return esg_scores\n",
        "\n",
        "def summarize_text(text):\n",
        "    summary = summarizer(text, max_length=150, min_length=25, do_sample=False)\n",
        "    return summary[0]['summary_text']\n",
        "\n",
        "def get_stock_performance(ticker):\n",
        "    stock = yf.Ticker(ticker)\n",
        "    hist = stock.history(period=\"1y\")\n",
        "    return hist\n",
        "\n",
        "def plot_esg_scores(esg_data):\n",
        "    if esg_data is not None:\n",
        "        esg_scores = esg_data.T\n",
        "        esg_scores.columns = ['Score']\n",
        "        sns.barplot(x=esg_scores.index, y='Score', data=esg_scores)\n",
        "        plt.title('ESG Scores')\n",
        "        st.pyplot(plt)\n",
        "\n",
        "def fetch_sustainalytics_esg(ticker):\n",
        "    api_key = \"XXXXX\"\n",
        "    url = f\"https://api.sustainalytics.com/esg/{ticker}?apikey={api_key}\"\n",
        "    response = requests.get(url)\n",
        "    if response.status_code == 200:\n",
        "        return response.json()\n",
        "    return None\n",
        "\n",
        "def fetch_refinitiv_esg(ticker):\n",
        "    api_key = \"XXXXX\"\n",
        "    url = f\"https://api.refinitiv.com/esg/{ticker}?apikey={api_key}\"\n",
        "    response = requests.get(url)\n",
        "    if response.status_code == 200:\n",
        "        return response.json()\n",
        "    return None\n",
        "\n",
        "def fetch_msci_esg(ticker):\n",
        "    api_key = \"XXXXX\"\n",
        "    url = f\"https://api.msci.com/esg/{ticker}?apikey={api_key}\"\n",
        "    response = requests.get(url)\n",
        "    if response.status_code == 200:\n",
        "        return response.json()\n",
        "    return None\n",
        "\n",
        "def fetch_real_esg_data(ticker):\n",
        "    esg_data = {}\n",
        "    sustainalytics_data = fetch_sustainalytics_esg(ticker)\n",
        "    refinitiv_data = fetch_refinitiv_esg(ticker)\n",
        "    msci_data = fetch_msci_esg(ticker)\n",
        "\n",
        "    if sustainalytics_data:\n",
        "        esg_data[\"Sustainalytics\"] = sustainalytics_data\n",
        "    if refinitiv_data:\n",
        "        esg_data[\"Refinitiv\"] = refinitiv_data\n",
        "    if msci_data:\n",
        "        esg_data[\"MSCI\"] = msci_data\n",
        "\n",
        "    if esg_data:\n",
        "        return esg_data\n",
        "    return None\n",
        "\n",
        "user_input = st.text_input(\"Your Question:\")\n",
        "\n",
        "if user_input:\n",
        "    st.write(\"Analyzing...\")\n",
        "\n",
        "    ticker = user_input.upper()\n",
        "\n",
        "    # Fetch real ESG data\n",
        "    real_esg_data = fetch_real_esg_data(ticker)\n",
        "    if real_esg_data:\n",
        "        # Summarize the real ESG data\n",
        "        esg_text = f\"ESG data for {ticker}: {real_esg_data}\"\n",
        "        summary = summarize_text(esg_text)\n",
        "        st.write(\"Summary:\", summary)\n",
        "    else:\n",
        "        st.write(\"No ESG data found for this ticker.\")\n",
        "\n",
        "    # Get and display ESG data from yfinance\n",
        "    esg_data = get_stock_data(ticker)\n",
        "    if esg_data is not None:\n",
        "        st.write(esg_data)\n",
        "        plot_esg_scores(esg_data)\n",
        "    else:\n",
        "        st.write(\"No ESG data found for this ticker.\")\n",
        "\n",
        "    # Get and display stock performance\n",
        "    stock_data = get_stock_performance(ticker)\n",
        "    if not stock_data.empty:\n",
        "        st.write(f\"Stock performance for {ticker}:\")\n",
        "        st.line_chart(stock_data['Close'])\n",
        "    else:\n",
        "        st.write(f\"No historical data found for {ticker}.\")\n",
        "\n",
        "# Run the Streamlit app with localtunnel\n",
        "import threading\n",
        "import subprocess\n",
        "\n",
        "def run_streamlit():\n",
        "    subprocess.run([\"streamlit\", \"run\", \"app.py\"])\n",
        "\n",
        "def run_localtunnel():\n",
        "    subprocess.run([\"lt\", \"--port\", \"8501\", \"--subdomain\", \"yourcustomsubdomain\"])\n",
        "\n",
        "# Start Streamlit app in a new thread\n",
        "streamlit_thread = threading.Thread(target=run_streamlit)\n",
        "streamlit_thread.start()\n",
        "\n",
        "# Start localtunnel in the main thread\n",
        "run_localtunnel()"
      ],
      "metadata": {
        "colab": {
          "base_uri": "https://localhost:8080/"
        },
        "id": "F0oQUWvqQ7Ri",
        "outputId": "f81f6872-d3bd-410a-fb66-5d7cbac64ee5"
      },
      "execution_count": 10,
      "outputs": [
        {
          "output_type": "stream",
          "name": "stdout",
          "text": [
            "Overwriting app.py\n"
          ]
        }
      ]
    },
    {
      "cell_type": "code",
      "source": [],
      "metadata": {
        "id": "tQPBC-YYREeU"
      },
      "execution_count": 6,
      "outputs": []
    },
    {
      "cell_type": "code",
      "source": [],
      "metadata": {
        "id": "TQJwr1ZkRhdA"
      },
      "execution_count": null,
      "outputs": []
    },
    {
      "cell_type": "code",
      "source": [],
      "metadata": {
        "id": "yDYguZUvRlwC"
      },
      "execution_count": 8,
      "outputs": []
    },
    {
      "cell_type": "code",
      "source": [],
      "metadata": {
        "id": "hK4IRI-gRngf"
      },
      "execution_count": null,
      "outputs": []
    },
    {
      "cell_type": "code",
      "source": [],
      "metadata": {
        "id": "gQsnFLEWRydD"
      },
      "execution_count": null,
      "outputs": []
    }
  ]
}